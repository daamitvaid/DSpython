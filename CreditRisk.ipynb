{
 "cells": [
  {
   "cell_type": "code",
   "execution_count": 2,
   "metadata": {
    "collapsed": true
   },
   "outputs": [],
   "source": [
    "import pandas as pd # for data analytics\n",
    "import numpy as np # for numerical computation\n",
    "from matplotlib import pyplot as plt, style # for ploting\n",
    "import seaborn as sns # for ploting\n",
    "from sklearn.metrics import fbeta_score, precision_score, recall_score, confusion_matrix # for evaluation\n",
    "import itertools\n",
    "\n",
    "%matplotlib inline"
   ]
  },
  {
   "cell_type": "code",
   "execution_count": 3,
   "metadata": {
    "collapsed": true
   },
   "outputs": [],
   "source": [
    "\n",
    "dataset = pd.read_csv('creditcard.csv')"
   ]
  },
  {
   "cell_type": "code",
   "execution_count": 4,
   "metadata": {},
   "outputs": [
    {
     "name": "stdout",
     "output_type": "stream",
     "text": [
      "(284315, 31)\n",
      "(492, 31)\n"
     ]
    }
   ],
   "source": [
    "dataset['Amount'] = np.log(dataset['Amount'] + 1)\n",
    "dataset['Time'] = np.log(dataset['Time'] + 1)\n",
    "normal = dataset[dataset['Class'] == 0]\n",
    "\n",
    "anomaly = dataset[dataset['Class'] == 1]\n",
    "print(normal.shape)\n",
    "print(anomaly.shape)"
   ]
  },
  {
   "cell_type": "code",
   "execution_count": null,
   "metadata": {
    "collapsed": true
   },
   "outputs": [],
   "source": []
  },
  {
   "cell_type": "code",
   "execution_count": null,
   "metadata": {
    "collapsed": true
   },
   "outputs": [],
   "source": []
  },
  {
   "cell_type": "code",
   "execution_count": 5,
   "metadata": {},
   "outputs": [
    {
     "name": "stdout",
     "output_type": "stream",
     "text": [
      "('Train shape: ', (227452, 31))\n",
      "Proportion os anomaly in training set: 0.00\n",
      "\n",
      "('Valid shape: ', (28677, 31))\n",
      "Proportion os anomaly in validation set: 0.01\n",
      "\n",
      "('Test shape:, ', (28678, 31))\n",
      "Proportion os anomaly in test set: 0.01\n",
      "\n"
     ]
    }
   ],
   "source": [
    "\n",
    "from sklearn.model_selection import train_test_split\n",
    "\n",
    "train, normal_test, _, _ = train_test_split(normal, normal, test_size=.2, random_state=42)\n",
    "\n",
    "normal_valid, normal_test, _, _ = train_test_split(normal_test, normal_test, test_size=.5, random_state=42)\n",
    "anormal_valid, anormal_test, _, _ = train_test_split(anomaly, anomaly, test_size=.5, random_state=42)\n",
    "\n",
    "train = train.reset_index(drop=True)\n",
    "valid = normal_valid.append(anormal_valid).sample(frac=1).reset_index(drop=True)\n",
    "test = normal_test.append(anormal_test).sample(frac=1).reset_index(drop=True)\n",
    "\n",
    "print('Train shape: ', train.shape)\n",
    "print('Proportion os anomaly in training set: %.2f\\n' % train['Class'].mean())\n",
    "print('Valid shape: ', valid.shape)\n",
    "print('Proportion os anomaly in validation set: %.2f\\n' % valid['Class'].mean())\n",
    "print('Test shape:, ', test.shape)\n",
    "print('Proportion os anomaly in test set: %.2f\\n' % test['Class'].mean())"
   ]
  },
  {
   "cell_type": "code",
   "execution_count": null,
   "metadata": {
    "collapsed": true
   },
   "outputs": [],
   "source": []
  },
  {
   "cell_type": "markdown",
   "metadata": {},
   "source": [
    "Gaussian Model Based\n",
    "\n",
    "In this technique, we assume that the data comes from a Gaussian distribution. We can fit such a Gaussian using simple Maximum Likelihood Estimates (MLE). Then, the distance from the mean in standard deviations is the anomaly score for an data instance:\n",
    "zz=|xx−x¯x¯|ss\n",
    "\n",
    "Where ( \\pmb{\\bar{x}} ) is the sample mean and ( \\pmb{s} ) is the sample variance. We can use a validation set to find an optimal threshold for the score, above which we will consider the instance an anomaly. This is equivalent to finding a hypersphere where the center is the sample mean and the radius is determined by the threshold. Data points outside this sphere will be classified as anomalous. One drawback of this technique is that it does not account for relationships among variables. More technically, this model assumes that that each feature in the data is linear independent from one another and that probabilities of the data can be decomposed as follows\n",
    "P(XX)=P(x1x1)∗P(x2x2)∗...∗P(xdxd)\n",
    "\n",
    "This would not be a problem if all our variables where principal components extracted from PCA, since they would be linear independent, but as this is not the case, we better account for correlation among features. To do that, we simply use the use the Mahalanobis distance of a test instance ( \\pmb{x} ) to the sample mean ( \\pmb{\\bar{x}} ). So that this score reflects a valid probability distribution, we will fit a full covariance matrix multi-variate normal distribution to the data:\n",
    "P(xx)ˆ=1(2π)d∗detSS−1‾‾‾‾‾‾‾‾‾‾‾‾‾‾√∗exp(−12∗(xx−x¯x¯)TSS−1(xx−x¯x¯))\n",
    "\n",
    "were ( \\pmb{S} ) is the sample covariance matrix. This fix the problem of assuming linear independence."
   ]
  },
  {
   "cell_type": "code",
   "execution_count": null,
   "metadata": {
    "collapsed": true
   },
   "outputs": [],
   "source": []
  },
  {
   "cell_type": "code",
   "execution_count": null,
   "metadata": {
    "collapsed": true
   },
   "outputs": [],
   "source": [
    "from scipy.stats import multivariate_normal\n",
    "\n",
    "mu = train.drop('Class', axis=1).mean(axis=0).values\n",
    "sigma = train.drop('Class', axis=1).cov().values\n"
   ]
  },
  {
   "cell_type": "code",
   "execution_count": null,
   "metadata": {
    "collapsed": true
   },
   "outputs": [],
   "source": [
    "\n",
    "model = multivariate_normal(cov=sigma, mean=mu, allow_singular=True)\n",
    "\n",
    "\n",
    "print(np.median(model.logpdf(valid[valid['Class'] == 0].drop('Class', axis=1).values))) \n",
    "print(np.median(model.logpdf(valid[valid['Class'] == 1].drop('Class', axis=1).values))) \n"
   ]
  },
  {
   "cell_type": "code",
   "execution_count": null,
   "metadata": {
    "collapsed": true
   },
   "outputs": [],
   "source": [
    "\n",
    "\n",
    "tresholds = np.linspace(-1000,-10, 150)\n",
    "scores = []\n",
    "for treshold in tresholds :\n",
    "    y_hat = (model.logpdf(valid.drop('Class', axis=1).values) < treshold).astype(int)\n",
    "    scores.append([recall_score(y_pred=y_hat, y_true=valid['Class'].values),\n",
    "                 precision_score(y_pred=y_hat, y_true=valid['Class'].values),\n",
    "                 fbeta_score(y_pred=y_hat, y_true=valid['Class'].values, beta=2)])\n"
   ]
  },
  {
   "cell_type": "code",
   "execution_count": null,
   "metadata": {
    "collapsed": true
   },
   "outputs": [],
   "source": [
    "scores = np.array(scores)\n",
    "print(scores[:, 2].max(), scores[:, 2].argmax())\n"
   ]
  },
  {
   "cell_type": "code",
   "execution_count": null,
   "metadata": {
    "collapsed": true
   },
   "outputs": [],
   "source": [
    "plt.plot(tresholds, scores[:, 0], label='$Recall$')\n",
    "plt.plot(tresholds, scores[:, 1], label='$Precision$')\n",
    "plt.plot(tresholds, scores[:, 2], label='$F_2$')\n",
    "plt.ylabel('Score')\n",
    "# plt.xticks(np.logspace(-10, -200, 3))\n",
    "plt.xlabel('Threshold')\n",
    "plt.legend(loc='best')\n",
    "plt.show()\n"
   ]
  },
  {
   "cell_type": "code",
   "execution_count": null,
   "metadata": {
    "collapsed": true
   },
   "outputs": [],
   "source": [
    "from sklearn.cluster import KMeans\n",
    "gmm = KMeans(n_clusters=3)\n",
    "gmm.fit(train.drop('Class', axis=1).values)"
   ]
  },
  {
   "cell_type": "code",
   "execution_count": null,
   "metadata": {
    "collapsed": true
   },
   "outputs": [],
   "source": [
    "print(gmm.score(valid[valid['Class'] == 0].drop('Class', axis=1).values))\n",
    "print(gmm.score(valid[valid['Class'] == 1].drop('Class', axis=1).values))"
   ]
  },
  {
   "cell_type": "code",
   "execution_count": null,
   "metadata": {
    "collapsed": true
   },
   "outputs": [],
   "source": [
    "\n",
    "\n",
    "tresholds = np.linspace(-400, 0, 100)\n",
    "y_scores = gmm.score_samples(valid.drop('Class', axis=1).values)\n",
    "scores = []\n",
    "for treshold in tresholds:\n",
    "    y_hat = (y_scores < treshold).astype(int)\n",
    "    scores.append([recall_score(y_pred=y_hat, y_true=valid['Class'].values),\n",
    "                 precision_score(y_pred=y_hat, y_true=valid['Class'].values),\n",
    "                 fbeta_score(y_pred=y_hat, y_true=valid['Class'].values, beta=2)])\n",
    "\n",
    "scores = np.array(scores)\n",
    "print(scores[:, 2].max(), scores[:, 2].argmax())\n"
   ]
  },
  {
   "cell_type": "code",
   "execution_count": null,
   "metadata": {
    "collapsed": true
   },
   "outputs": [],
   "source": []
  },
  {
   "cell_type": "code",
   "execution_count": null,
   "metadata": {
    "collapsed": true
   },
   "outputs": [],
   "source": []
  },
  {
   "cell_type": "code",
   "execution_count": null,
   "metadata": {
    "collapsed": true
   },
   "outputs": [],
   "source": []
  },
  {
   "cell_type": "code",
   "execution_count": null,
   "metadata": {
    "collapsed": true
   },
   "outputs": [],
   "source": []
  },
  {
   "cell_type": "code",
   "execution_count": null,
   "metadata": {
    "collapsed": true
   },
   "outputs": [],
   "source": []
  },
  {
   "cell_type": "code",
   "execution_count": null,
   "metadata": {
    "collapsed": true
   },
   "outputs": [],
   "source": []
  },
  {
   "cell_type": "code",
   "execution_count": null,
   "metadata": {
    "collapsed": true
   },
   "outputs": [],
   "source": [
    "\n"
   ]
  },
  {
   "cell_type": "code",
   "execution_count": null,
   "metadata": {
    "collapsed": true
   },
   "outputs": [],
   "source": [
    "\n",
    "\n",
    "\n"
   ]
  },
  {
   "cell_type": "code",
   "execution_count": null,
   "metadata": {
    "collapsed": true
   },
   "outputs": [],
   "source": []
  },
  {
   "cell_type": "code",
   "execution_count": null,
   "metadata": {
    "collapsed": true
   },
   "outputs": [],
   "source": []
  },
  {
   "cell_type": "code",
   "execution_count": null,
   "metadata": {
    "collapsed": true
   },
   "outputs": [],
   "source": []
  },
  {
   "cell_type": "code",
   "execution_count": null,
   "metadata": {
    "collapsed": true
   },
   "outputs": [],
   "source": []
  },
  {
   "cell_type": "code",
   "execution_count": null,
   "metadata": {
    "collapsed": true
   },
   "outputs": [],
   "source": []
  },
  {
   "cell_type": "code",
   "execution_count": null,
   "metadata": {
    "collapsed": true
   },
   "outputs": [],
   "source": [
    "\n",
    "\n",
    "class hist_model(object):\n",
    "    \n",
    "    def __init__(self, bins=50):\n",
    "        self.bins = bins\n",
    "        \n",
    "    def fit(self, X):\n",
    "        \n",
    "        bin_hight, bin_edge = [], []\n",
    "        \n",
    "        for var in X.T:\n",
    "            # get bins hight and interval\n",
    "            bh, bedge = np.histogram(var, bins=self.bins)\n",
    "            bin_hight.append(bh)\n",
    "            bin_edge.append(bedge)\n",
    "        \n",
    "        self.bin_hight = np.array(bin_hight)\n",
    "        self.bin_edge = np.array(bin_edge)\n",
    "   \n",
    "\n",
    "    def predict(self, X):\n",
    "        \n",
    "        scores = []\n",
    "        for obs in X:\n",
    "            obs_score = []\n",
    "            for i, var in enumerate(obs):\n",
    "                \n",
    "                # find wich bin obs is in\n",
    "                bin_num = (var > self.bin_edge[i]).argmin()-1\n",
    "                obs_score.append(self.bin_hight[i, bin_num]) # find bin hitght\n",
    "            \n",
    "            scores.append(np.mean(obs_score))\n",
    "        \n",
    "        return np.array(scores)\n",
    "                \n",
    "\n",
    "        \n",
    "model = hist_model()\n",
    "model.fit(train.drop('Class', axis=1).values)\n",
    "print(np.median(model.predict(valid[valid['Class'] == 0].drop('Class', axis=1).values))) \n",
    "print(np.median(model.predict(valid[valid['Class'] == 1].drop('Class', axis=1).values))) \n",
    "\n"
   ]
  },
  {
   "cell_type": "code",
   "execution_count": null,
   "metadata": {
    "collapsed": true
   },
   "outputs": [],
   "source": []
  },
  {
   "cell_type": "code",
   "execution_count": null,
   "metadata": {
    "collapsed": true
   },
   "outputs": [],
   "source": [
    "train['V10'].values"
   ]
  },
  {
   "cell_type": "code",
   "execution_count": null,
   "metadata": {
    "collapsed": true
   },
   "outputs": [],
   "source": [
    "model.fit(train['V10'].values)"
   ]
  },
  {
   "cell_type": "code",
   "execution_count": null,
   "metadata": {
    "collapsed": true
   },
   "outputs": [],
   "source": [
    "from sklearn.svm import OneClassSVM\n",
    "np.random.seed(42)\n",
    "\n",
    "model = OneClassSVM(gamma=0.000562, nu=.95, kernel='rbf')\n",
    "model.fit(train.drop('Class', axis=1).values)\n",
    "print(model.decision_function(valid[valid['Class'] == 0].drop('Class', axis=1).values).mean())\n",
    "print(model.decision_function(valid[valid['Class'] == 1].drop('Class', axis=1).values).mean())\n"
   ]
  },
  {
   "cell_type": "code",
   "execution_count": null,
   "metadata": {
    "collapsed": true
   },
   "outputs": [],
   "source": [
    "tresholds = np.linspace(-50000, -400, 500)\n",
    "y_scores = model.decision_function(valid.drop('Class', axis=1).values)\n",
    "scores = []"
   ]
  },
  {
   "cell_type": "markdown",
   "metadata": {
    "collapsed": true
   },
   "source": [
    "# Auto Encoders "
   ]
  },
  {
   "cell_type": "markdown",
   "metadata": {
    "collapsed": true
   },
   "source": [
    "Neural based techniques\n",
    "\n",
    "In recent years, unsupervised deep learning has taken the knowledge frontier in machine learning research. Many believe that by learning a good representation of the data we will be able to make our supervised models generalize better. This lead to a huge increase in unsupervised deep learning research and many algorithms are rapidly emerging. Here, we will use a well know and not so new approach of a replicating neural network named the autoencoder. In this technique, a multilayer perceptron with the same number of input and output neurons is trained with maximum likelihood to replicate the input data. To avoid simply learning the identity function, we use a bottleneck layer, with fewer neurons than the input size, thus forcing the network to compress the input in its internal representation.\n",
    "\n",
    "If we use only normal data to train the network, we can hope it will learn a good internal representation of it and thus have a low reconstruction error wen asked to replicate normal data. Moreover, as it have never seen how the anomalous data looks like, we also hope that the network will do a poor job reconstructing the anomalies. Hence, we can use the reconstruction error, ( (\\pmb{\\tilde{x}} - \\pmb{x})^2 ), as an anomaly score. Is the error is too large, we can then flag the instance as an anomaly.\n",
    "\n",
    "Below, build an autoencoder with a bottleneck layer of only 2 neurons."
   ]
  },
  {
   "cell_type": "code",
   "execution_count": 6,
   "metadata": {
    "collapsed": true
   },
   "outputs": [],
   "source": [
    "import tensorflow as tf\n",
    "tf.reset_default_graph()\n",
    "tf.set_random_seed(2)"
   ]
  },
  {
   "cell_type": "code",
   "execution_count": 7,
   "metadata": {},
   "outputs": [
    {
     "data": {
      "text/plain": [
       "(227452, 31)"
      ]
     },
     "execution_count": 7,
     "metadata": {},
     "output_type": "execute_result"
    }
   ],
   "source": [
    "train.shape"
   ]
  },
  {
   "cell_type": "code",
   "execution_count": 27,
   "metadata": {
    "collapsed": true
   },
   "outputs": [],
   "source": [
    "batch_size =10000\n",
    "n_visible = train.drop('Class', axis=1).values.shape[1]\n",
    "n_hidden1 = 27\n",
    "n_hidden2 = 16\n",
    "n_hidden3 = 2"
   ]
  },
  {
   "cell_type": "code",
   "execution_count": 9,
   "metadata": {
    "collapsed": true
   },
   "outputs": [],
   "source": [
    "learning_rate = 0.01\n",
    "# create node for input data\n",
    "X_tf = tf.placeholder(\"float\",[None,n_visible],name = 'X')\n"
   ]
  },
  {
   "cell_type": "code",
   "execution_count": 13,
   "metadata": {
    "collapsed": true
   },
   "outputs": [],
   "source": [
    "# Paramtetrs initialization\n",
    "W1_init = 4 * np.sqrt(6. / (n_visible + n_hidden1))\n",
    "W2_init = 4 * np.sqrt(6. / (n_hidden1 + n_hidden2))\n",
    "W3_init = 4 * np.sqrt(6. / (n_hidden2 + n_hidden3))"
   ]
  },
  {
   "cell_type": "code",
   "execution_count": 31,
   "metadata": {},
   "outputs": [],
   "source": [
    "W1 =  tf.Variable(tf.random_uniform([n_visible,n_hidden1],minval=-W1_init, maxval=W1_init), name='W1')\n",
    "b1 = tf.Variable(tf.zeros([n_hidden1]),name = 'b1')\n",
    "\n",
    "W2 = tf.Variable(tf.random_uniform([n_hidden1,n_hidden2],minval= -W2_init, maxval= W2_init), name ='W2')\n",
    "b2= tf.Variable(tf.zeros([n_hidden2]), name='b2')\n",
    "\n",
    "W3 = tf.Variable(tf.random_uniform([n_hidden2,n_hidden3],minval= -W3_init,maxval=W3_init),name='W3')\n",
    "b3 = tf.Variable(tf.zeros([n_hidden3]),name = 'b3')\n",
    "\n",
    "W3_prime = tf.Variable(tf.random_uniform([n_hidden3, n_hidden2],\n",
    "                                   minval=-W3_init, maxval=W3_init), name='W3_prime')  \n",
    "b3_prime = tf.Variable(tf.zeros([n_hidden2]), name='b3_prime')\n",
    "\n",
    "W2_prime = tf.Variable(tf.random_uniform([n_hidden2, n_hidden1],\n",
    "                                   minval=-W2_init, maxval=W2_init), name='W2_prime')  \n",
    "b2_prime = tf.Variable(tf.zeros([n_hidden1]), name='b2_prime')\n",
    "\n",
    "W1_prime =  tf.Variable(tf.random_uniform([n_hidden1, n_visible],\n",
    "                                   minval=-W1_init, maxval=W1_init), name='W1_prime')\n",
    "b1_prime = tf.Variable(tf.zeros([n_visible]), name='b1_prime')\n",
    "\n",
    "def autoencoder(X_tf):\n",
    "    #encoder\n",
    "      #y = Wx +b\n",
    "        Y = tf.nn.tanh(tf.add(tf.matmul(X_tf,W1),b1))\n",
    "        Y = tf.nn.tanh(tf.add(tf.matmul(Y,W2),b2))\n",
    "        Y = tf.nn.tanh(tf.add(tf.matmul(Y,W3),b3))\n",
    "\n",
    "      # decoder\n",
    "        Z = tf.nn.tanh(tf.matmul(Y, W3_prime) + b3_prime)\n",
    "        Z = tf.nn.tanh(tf.matmul(Z, W2_prime) + b2_prime)  \n",
    "        Z = tf.nn.tanh(tf.matmul(Z, W1_prime) + b1_prime)\n",
    "    \n",
    "        return Z, Y\n",
    "Z, Y = autoencoder(X_tf)\n",
    "cost= tf.reduce_mean(tf.pow(X_tf- Z,2))\n",
    "train_op = tf.train.AdamOptimizer(learning_rate).minimize(cost) \n",
    "scores = tf.abs(X_tf - Z)\n"
   ]
  },
  {
   "cell_type": "code",
   "execution_count": 21,
   "metadata": {
    "collapsed": true
   },
   "outputs": [],
   "source": [
    "X_train = train.drop('Class', axis=1).values\n",
    "X_val_norm = valid[valid['Class'] == 0].drop('Class', axis=1).values\n",
    "X_val_anorm = valid[valid['Class'] == 1].drop('Class', axis=1).values\n"
   ]
  },
  {
   "cell_type": "code",
   "execution_count": 35,
   "metadata": {},
   "outputs": [
    {
     "name": "stdout",
     "output_type": "stream",
     "text": [
      "\n",
      "Batch loss at step 0: 6.257528\n",
      "Val Norm loss at step 0: 6.289206\n",
      "Val Anorm loss at step 0: 31.363935\n",
      "\n",
      "Batch loss at step 3000: 4.527044\n",
      "Val Norm loss at step 3000: 4.514933\n",
      "Val Anorm loss at step 3000: 26.980848\n",
      "\n",
      "Batch loss at step 6000: 4.499721\n",
      "Val Norm loss at step 6000: 4.492274\n",
      "Val Anorm loss at step 6000: 27.128784\n",
      "\n",
      "Batch loss at step 9000: 4.464999\n",
      "Val Norm loss at step 9000: 4.478693\n",
      "Val Anorm loss at step 9000: 27.065798\n",
      "\n",
      "Batch loss at step 12000: 4.424628\n",
      "Val Norm loss at step 12000: 4.462211\n",
      "Val Anorm loss at step 12000: 27.049500\n",
      "\n",
      "Batch loss at step 15000: 4.377654\n",
      "Val Norm loss at step 15000: 4.439326\n",
      "Val Anorm loss at step 15000: 26.788778\n"
     ]
    }
   ],
   "source": [
    "with tf.Session() as sess:\n",
    "    tf.global_variables_initializer().run()\n",
    "    \n",
    "    for step in range (15001):\n",
    "        offset = (step * batch_size) % (X_train.shape[0] - batch_size)\n",
    "        batch_data = X_train[offset:(offset + batch_size), :]\n",
    "\n",
    "        sess.run(train_op, feed_dict={X_tf: batch_data,})\n",
    "        \n",
    "        if (step % 3000 == 0):\n",
    "            print('\\nBatch loss at step %d: %f' % (step,sess.run(cost, feed_dict={X_tf: batch_data})))\n",
    "            print('Val Norm loss at step %d: %f' % (step,sess.run(cost, feed_dict={X_tf: X_val_norm})))\n",
    "            print('Val Anorm loss at step %d: %f' % (step,sess.run(cost, feed_dict={X_tf: X_val_anorm})))\n",
    "        \n",
    "    y_scores_valid, enc_val = sess.run([scores, Y], feed_dict={X_tf: valid.drop('Class', axis=1).values})\n",
    "    y_scores_test, enc_test = sess.run([scores, Y], feed_dict={X_tf: test.drop('Class', axis=1).values})\n",
    "        "
   ]
  },
  {
   "cell_type": "code",
   "execution_count": 36,
   "metadata": {},
   "outputs": [
    {
     "name": "stdout",
     "output_type": "stream",
     "text": [
      "[ 0.99142635  1.08707058  0.76594144 ...,  0.80795825  0.72226983\n",
      "  0.96377939]\n"
     ]
    }
   ],
   "source": [
    "print (y_scores_valid.mean(axis=1))"
   ]
  },
  {
   "cell_type": "code",
   "execution_count": 38,
   "metadata": {},
   "outputs": [],
   "source": [
    "t =y_scores_valid.mean(axis=1)"
   ]
  },
  {
   "cell_type": "code",
   "execution_count": 40,
   "metadata": {},
   "outputs": [
    {
     "data": {
      "text/plain": [
       "23.500706"
      ]
     },
     "execution_count": 40,
     "metadata": {},
     "output_type": "execute_result"
    }
   ],
   "source": [
    "t.max()"
   ]
  },
  {
   "cell_type": "code",
   "execution_count": 41,
   "metadata": {},
   "outputs": [
    {
     "data": {
      "text/plain": [
       "0.29956239"
      ]
     },
     "execution_count": 41,
     "metadata": {},
     "output_type": "execute_result"
    }
   ],
   "source": [
    "t.min()"
   ]
  },
  {
   "cell_type": "code",
   "execution_count": 42,
   "metadata": {},
   "outputs": [
    {
     "data": {
      "text/plain": [
       "0.90483105"
      ]
     },
     "execution_count": 42,
     "metadata": {},
     "output_type": "execute_result"
    }
   ],
   "source": [
    "t.mean()"
   ]
  },
  {
   "cell_type": "code",
   "execution_count": 43,
   "metadata": {},
   "outputs": [
    {
     "data": {
      "text/plain": [
       "0.41431177"
      ]
     },
     "execution_count": 43,
     "metadata": {},
     "output_type": "execute_result"
    }
   ],
   "source": [
    "t.std()"
   ]
  },
  {
   "cell_type": "code",
   "execution_count": 44,
   "metadata": {},
   "outputs": [
    {
     "data": {
      "text/plain": [
       "<matplotlib.axes._subplots.AxesSubplot at 0x121db4d90>"
      ]
     },
     "execution_count": 44,
     "metadata": {},
     "output_type": "execute_result"
    },
    {
     "data": {
      "image/png": "[encoded data removed]",
      "text/plain": [
       "<matplotlib.figure.Figure at 0x121db4710>"
      ]
     },
     "metadata": {},
     "output_type": "display_data"
    }
   ],
   "source": [
    "sns.distplot(t)"
   ]
  },
  {
   "cell_type": "code",
   "execution_count": 45,
   "metadata": {},
   "outputs": [
    {
     "name": "stdout",
     "output_type": "stream",
     "text": [
      "(0.56286549707602329, 35)\n"
     ]
    }
   ],
   "source": [
    "tresholds = np.linspace(0, 6, 100)\n",
    "\n",
    "scores = []\n",
    "for treshold in tresholds:\n",
    "    y_hat = (y_scores_valid.mean(axis=1) > treshold).astype(int)\n",
    "    scores.append([recall_score(y_pred=y_hat, y_true=valid['Class'].values),\n",
    "                 precision_score(y_pred=y_hat, y_true=valid['Class'].values),\n",
    "                 fbeta_score(y_pred=y_hat, y_true=valid['Class'].values, beta=2)])\n",
    "\n",
    "scores = np.array(scores)\n",
    "print(scores[:, 2].max(), scores[:, 2].argmax())"
   ]
  },
  {
   "cell_type": "code",
   "execution_count": 46,
   "metadata": {},
   "outputs": [
    {
     "data": {
      "image/png": "[encoded data removed]",
      "text/plain": [
       "<matplotlib.figure.Figure at 0x1218adc90>"
      ]
     },
     "metadata": {},
     "output_type": "display_data"
    }
   ],
   "source": [
    "plt.plot(tresholds, scores[:, 0], label='$Recall$')\n",
    "plt.plot(tresholds, scores[:, 1], label='$Precision$')\n",
    "plt.plot(tresholds, scores[:, 2], label='$F_2$')\n",
    "plt.ylabel('Score')\n",
    "plt.xlabel('Threshold')\n",
    "plt.legend(loc='best')\n",
    "plt.show()"
   ]
  },
  {
   "cell_type": "code",
   "execution_count": null,
   "metadata": {
    "collapsed": true
   },
   "outputs": [],
   "source": []
  }
 ],
 "metadata": {
  "kernelspec": {
   "display_name": "Python 2",
   "language": "python",
   "name": "python2"
  },
  "language_info": {
   "codemirror_mode": {
    "name": "ipython",
    "version": 2
   },
   "file_extension": ".py",
   "mimetype": "text/x-python",
   "name": "python",
   "nbconvert_exporter": "python",
   "pygments_lexer": "ipython2",
   "version": "2.7.13"
  }
 },
 "nbformat": 4,
 "nbformat_minor": 2
}
